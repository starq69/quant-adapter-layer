{
 "cells": [
  {
   "cell_type": "markdown",
   "metadata": {},
   "source": [
    "### rivedere"
   ]
  },
  {
   "cell_type": "code",
   "execution_count": null,
   "metadata": {
    "collapsed": false
   },
   "outputs": [],
   "source": [
    "import os, fnmatch, re\n",
    "#import sys\n",
    "\n",
    "walk_dir = '/home/starq/REP/JOBS/2018/quant-adapter-layer/data/eoddata.com/'\n",
    "\n",
    "print('walk_dir = ' + walk_dir)\n",
    "\n",
    "# If your current working directory may change during script execution, it's recommended to\n",
    "# immediately convert program arguments to an absolute path. Then the variable root below will\n",
    "# be an absolute path as well. Example:\n",
    "# walk_dir = os.path.abspath(walk_dir)\n",
    "#print('walk_dir (absolute) = ' + os.path.abspath(walk_dir))\n",
    "parent=None\n",
    "i=1\n",
    "for root, subdirs, files in os.walk(walk_dir):\n",
    "    print('\\n--iter =' + str(i))\n",
    "    print('--parent = ' + str(parent))\n",
    "    print('--root = ' + root)\n",
    "    #list_file_path = os.path.join(root, 'my-directory-list.txt')\n",
    "    #print('list_file_path = ' + list_file_path)\n",
    "\n",
    "    #with open(list_file_path, 'wb') as list_file:\n",
    "    for subdir in subdirs:\n",
    "        print('\\t+ subdirectory ' + subdir)\n",
    "\n",
    "    mapper = [filename for filename in files if fnmatch.fnmatch(filename, '*tree')]\n",
    "    for filename in mapper: #files:\n",
    "        file_path = os.path.join(root, filename)\n",
    "        #print('\\t- file %s (full path: %s)' % (filename, file_path))\n",
    "        print('\\t- file ' + filename)\n",
    "    \n",
    "    ####@stsrq69 : attenzione qui...\n",
    "    if parent is None:\n",
    "        parent = root\n",
    "    else:\n",
    "        p = root\n",
    "        rec = re.compile(r'(.+/)\\w+')\n",
    "        while True:\n",
    "            #rec = re.compile(r'(.+/)\\w+')\n",
    "            match = rec.match(p)\n",
    "            if match:\n",
    "                back = match.group(1)\n",
    "\n",
    "                if parent == back:\n",
    "                    print('BACK :' + back)\n",
    "                    break\n",
    "                else:\n",
    "                    p = back\n",
    "\n",
    "    i+=1"
   ]
  },
  {
   "cell_type": "markdown",
   "metadata": {
    "collapsed": true
   },
   "source": [
    "# OK"
   ]
  },
  {
   "cell_type": "code",
   "execution_count": 6,
   "metadata": {
    "collapsed": false
   },
   "outputs": [
    {
     "name": "stdout",
     "output_type": "stream",
     "text": [
      "mappers = ['resource_mapper.1.json']\n",
      "mappers = []\n",
      "mappers = ['resource_mapper.1.json', 'resource_mapper.5.json']\n",
      "mappers = ['resource_mapper.1.json']\n",
      "mappers = []\n",
      "mappers = ['resource_mapper.1.json']\n",
      "mappers = []\n"
     ]
    }
   ],
   "source": [
    "import os, fnmatch, re\n",
    "#import sys\n",
    "walk_dir = '/home/starq/REP/JOBS/2018/quant-adapter-layer/data/eoddata.com'\n",
    "\n",
    "def get_parent_(path, tree):\n",
    "    rec = re.compile(r'(.+)/\\w+')\n",
    "    #path = p\n",
    "    while path:\n",
    "        match = rec.match(path)\n",
    "        if match:\n",
    "            back = match.group(1)\n",
    "            print('back=<{}>'.format(back))\n",
    "            try:\n",
    "                if tree[back]:\n",
    "                    return tree[back]\n",
    "                '''\n",
    "                if tree[back]:\n",
    "                    print('MATCH')\n",
    "                    return tree[back]\n",
    "                '''    \n",
    "            except KeyError:\n",
    "                #print('KEY ERROR (internal corrupted tree mapper)')\n",
    "                #pass\n",
    "                path = back\n",
    "                continue\n",
    "        else:\n",
    "            #path = back\n",
    "            print('NOT MATCH')\n",
    "            #return None\n",
    "            break\n",
    "        \n",
    "        return None\n",
    "\n",
    "def get_parent(p, tree):\n",
    "    rec = re.compile(r'(.+)/\\w*')\n",
    "    #rec = re.compile(r'(.+)/.*')\n",
    "    #rec = re.compile(r'(.+)/([a-z][A-Z][_-])*')\n",
    "    path = p\n",
    "    while path:\n",
    "        try:\n",
    "            match = rec.match(path)\n",
    "            print('match={}'.format(match))\n",
    "            back = match.group(1)\n",
    "            path = back\n",
    "            print('path={}'.format(path))\n",
    "        except AttributeError:\n",
    "            print('AttributeError')\n",
    "            print('MATCH={}'.format(match))\n",
    "            #path = None\n",
    "            print('PATH={}'.format(path))\n",
    "            break\n",
    "    return None\n",
    "\n",
    "\n",
    "def get_parent_if(p, tree):\n",
    "    rec = re.compile(r'(.+)/\\w*')\n",
    "    #rec = re.compile(r'(.+)/.*')\n",
    "    #rec = re.compile(r'(.+)/([a-z][A-Z][_-])*')\n",
    "    path = p\n",
    "    while path:\n",
    "        match = rec.match(path)\n",
    "        if match:\n",
    "            print('match={}'.format(match))\n",
    "            back = match.group(1)\n",
    "            path = back\n",
    "            print('path={}'.format(path))\n",
    "        else:\n",
    "            print('MATCH={}'.format(match))\n",
    "            #path = None\n",
    "            print('PATH={}'.format(path))\n",
    "            break\n",
    "\n",
    "    return None\n",
    "\n",
    "def get_parent_ex(path, tree):\n",
    "    rec = re.compile(r'(.+)/\\w+')\n",
    "\n",
    "    while path:\n",
    "        match = rec.match(path)\n",
    "        if match:\n",
    "            back = match.group(1)\n",
    "            #print('back=<{}>'.format(back))\n",
    "\n",
    "            if back in tree:\n",
    "                return tree[back]\n",
    "            else:\n",
    "                path = back\n",
    "                continue\n",
    "        else:\n",
    "            break\n",
    "    \n",
    "        return None\n",
    "\n",
    "def get_file_items(path, pattern='resource_mapper.*.json', sort=True):\n",
    "    _items = [f.name for f in os.scandir(path) if f.is_file() and fnmatch.fnmatch(f.name, pattern)]\n",
    "    if sort:\n",
    "        _items=sorted(_items)\n",
    "    return _items\n",
    "    \n",
    "def tree_mappers(path):\n",
    "\n",
    "    parent = tree = {}\n",
    "\n",
    "    for root, _, files in os.walk(path):\n",
    "        #print('--parent = ' + str(parent))\n",
    "        #print('--root = <{}>'.format(root))\n",
    "\n",
    "        mappers = get_file_items(root)\n",
    "        print('mappers = {}'.format(mappers))\n",
    "\n",
    "        if not parent:\n",
    "            parent = tree[root] = {'mappers':mappers, 'parent': {}}\n",
    "            continue\n",
    "        else:\n",
    "            parent = get_parent_ex(root, tree)\n",
    "            if parent:\n",
    "                tree[root] = {'mappers':mappers, 'parent':parent}\n",
    "            else:\n",
    "                tree[root] = {'mappers':mappers, 'parent': {}}\n",
    "\n",
    "    return tree\n",
    "\n",
    "                \n",
    "tree=tree_mappers(walk_dir)"
   ]
  },
  {
   "cell_type": "code",
   "execution_count": 7,
   "metadata": {
    "collapsed": false
   },
   "outputs": [
    {
     "data": {
      "text/plain": [
       "{'/home/starq/REP/JOBS/2018/quant-adapter-layer/data/eoddata.com': {'mappers': ['resource_mapper.1.json'],\n",
       "  'parent': {}},\n",
       " '/home/starq/REP/JOBS/2018/quant-adapter-layer/data/eoddata.com/A': {'mappers': ['resource_mapper.1.json',\n",
       "   'resource_mapper.5.json'],\n",
       "  'parent': {'mappers': ['resource_mapper.1.json'], 'parent': {}}},\n",
       " '/home/starq/REP/JOBS/2018/quant-adapter-layer/data/eoddata.com/B': {'mappers': ['resource_mapper.1.json'],\n",
       "  'parent': {'mappers': ['resource_mapper.1.json'], 'parent': {}}},\n",
       " '/home/starq/REP/JOBS/2018/quant-adapter-layer/data/eoddata.com/C': {'mappers': [],\n",
       "  'parent': {'mappers': ['resource_mapper.1.json'], 'parent': {}}},\n",
       " '/home/starq/REP/JOBS/2018/quant-adapter-layer/data/eoddata.com/C/CC': {'mappers': ['resource_mapper.1.json'],\n",
       "  'parent': {'mappers': [],\n",
       "   'parent': {'mappers': ['resource_mapper.1.json'], 'parent': {}}}},\n",
       " '/home/starq/REP/JOBS/2018/quant-adapter-layer/data/eoddata.com/C/CC/CCC': {'mappers': [],\n",
       "  'parent': {'mappers': ['resource_mapper.1.json'],\n",
       "   'parent': {'mappers': [],\n",
       "    'parent': {'mappers': ['resource_mapper.1.json'], 'parent': {}}}}},\n",
       " '/home/starq/REP/JOBS/2018/quant-adapter-layer/data/eoddata.com/raw': {'mappers': [],\n",
       "  'parent': {'mappers': ['resource_mapper.1.json'], 'parent': {}}}}"
      ]
     },
     "execution_count": 7,
     "metadata": {},
     "output_type": "execute_result"
    }
   ],
   "source": [
    "tree"
   ]
  },
  {
   "cell_type": "code",
   "execution_count": 16,
   "metadata": {
    "collapsed": false
   },
   "outputs": [],
   "source": [
    "fn = tree['/home/starq/REP/JOBS/2018/quant-adapter-layer/data/eoddata.com']['mappers']\n",
    "f = fn[0]"
   ]
  },
  {
   "cell_type": "code",
   "execution_count": 17,
   "metadata": {
    "collapsed": false
   },
   "outputs": [],
   "source": [
    "rmf = '/home/starq/REP/JOBS/2018/quant-adapter-layer/data/eoddata.com' + '/' + f"
   ]
  },
  {
   "cell_type": "code",
   "execution_count": 18,
   "metadata": {
    "collapsed": false
   },
   "outputs": [],
   "source": [
    "import json\n",
    "with open(rmf) as jmap:\n",
    "    try:\n",
    "        rmap = json.load(jmap)\n",
    "    except ValueError as e:\n",
    "        print(str(e))"
   ]
  },
  {
   "cell_type": "code",
   "execution_count": 19,
   "metadata": {
    "collapsed": false
   },
   "outputs": [
    {
     "data": {
      "text/plain": [
       "{'ingest': {'format': ['@SYM', 'date', 'open', 'high', 'low', 'close', 'vol'],\n",
       "  'gmatch': ['MKT', 'timestamp'],\n",
       "  'path': 'raw/',\n",
       "  'regex': '([A-Za-z]+)_([0-9]+).txt',\n",
       "  'sep': ',',\n",
       "  'timeframe': 'd'},\n",
       " 'select': 'tbd'}"
      ]
     },
     "execution_count": 19,
     "metadata": {},
     "output_type": "execute_result"
    }
   ],
   "source": [
    "rmap"
   ]
  },
  {
   "cell_type": "code",
   "execution_count": 20,
   "metadata": {
    "collapsed": false
   },
   "outputs": [
    {
     "data": {
      "text/plain": [
       "dict"
      ]
     },
     "execution_count": 20,
     "metadata": {},
     "output_type": "execute_result"
    }
   ],
   "source": [
    "type(rmap)"
   ]
  },
  {
   "cell_type": "code",
   "execution_count": 21,
   "metadata": {
    "collapsed": false
   },
   "outputs": [
    {
     "data": {
      "text/plain": [
       "{'format': ['@SYM', 'date', 'open', 'high', 'low', 'close', 'vol'],\n",
       " 'gmatch': ['MKT', 'timestamp'],\n",
       " 'path': 'raw/',\n",
       " 'regex': '([A-Za-z]+)_([0-9]+).txt',\n",
       " 'sep': ',',\n",
       " 'timeframe': 'd'}"
      ]
     },
     "execution_count": 21,
     "metadata": {},
     "output_type": "execute_result"
    }
   ],
   "source": [
    "rmap['ingest']"
   ]
  },
  {
   "cell_type": "code",
   "execution_count": 23,
   "metadata": {
    "collapsed": false
   },
   "outputs": [
    {
     "data": {
      "text/plain": [
       "'([A-Za-z]+)_([0-9]+).txt'"
      ]
     },
     "execution_count": 23,
     "metadata": {},
     "output_type": "execute_result"
    }
   ],
   "source": [
    "rmap['ingest']['regex']"
   ]
  },
  {
   "cell_type": "code",
   "execution_count": null,
   "metadata": {
    "collapsed": true
   },
   "outputs": [],
   "source": []
  }
 ],
 "metadata": {
  "anaconda-cloud": {},
  "kernelspec": {
   "display_name": "Python [conda root]",
   "language": "python",
   "name": "conda-root-py"
  },
  "language_info": {
   "codemirror_mode": {
    "name": "ipython",
    "version": 3
   },
   "file_extension": ".py",
   "mimetype": "text/x-python",
   "name": "python",
   "nbconvert_exporter": "python",
   "pygments_lexer": "ipython3",
   "version": "3.5.2"
  }
 },
 "nbformat": 4,
 "nbformat_minor": 1
}
